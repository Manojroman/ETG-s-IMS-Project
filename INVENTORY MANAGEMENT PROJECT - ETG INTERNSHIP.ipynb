{
 "cells": [
  {
   "cell_type": "markdown",
   "id": "41126e8c",
   "metadata": {},
   "source": [
    "## Creating json file for products"
   ]
  },
  {
   "cell_type": "code",
   "execution_count": 20,
   "id": "92e5e00d",
   "metadata": {},
   "outputs": [],
   "source": [
    "import json\n",
    "\n",
    "products_details = {\n",
    "    1001: {\"name\": \"Apple\", \"price\": 120, \"quantity_in_stock\": 51, \"rating\": 4.3, \"type_of_product\": \"Fruit\"},\n",
    "    1002: {\"name\": \"Orange\", \"price\": 70, \"quantity_in_stock\": 60, \"rating\": 4.2, \"type_of_product\": \"Fruit\"},\n",
    "    1003: {\"name\": \"Grapes\", \"price\": 35, \"quantity_in_stock\": 70, \"rating\": 3.5, \"type_of_product\": \"Fruit\"},\n",
    "    1004: {\"name\": \"Milk\", \"price\": 30, \"quantity_in_stock\": 200, \"rating\": 4, \"type_of_product\": \"Diary\"},\n",
    "    1005: {\"name\": \"Butter\", \"price\": 100, \"quantity_in_stock\": 80, \"rating\": 4.9, \"type_of_product\": \"Diary\"},\n",
    "    1006: {\"name\": \"Ghee\", \"price\": 150, \"quantity_in_stock\": 40, \"rating\": 3.9, \"type_of_product\": \"Diary\"},\n",
    "    1007: {\"name\": \"sugar\", \"price\": 40, \"quantity_in_stock\": 100, \"rating\": 3.8, \"type_of_product\": \"Grocery\"},\n",
    "    1008: {\"name\": \"Salt\", \"price\": 15, \"quantity_in_stock\": 100, \"rating\": 5, \"type_of_product\": \"Grocery\"},\n",
    "    1009: {\"name\": \"Dhall\", \"price\": 80, \"quantity_in_stock\": 100, \"rating\": 4, \"type_of_product\": \"Grocery\"},\n",
    "    1010: {\"name\": \"Rice\", \"price\": 999, \"quantity_in_stock\": 20, \"rating\": 4.5, \"type_of_product\": \"Grocery\"},\n",
    "    1011: {\"name\": \"Chicken\", \"price\": 150, \"quantity_in_stock\": 57, \"rating\": 4.3, \"type_of_product\": \"Meat\"},\n",
    "    1012: {\"name\": \"Fish\", \"price\": 200, \"quantity_in_stock\": 60, \"rating\": 4.2, \"type_of_product\": \"Meat\"},\n",
    "    1013: {\"name\": \"Mutton\", \"price\": 500, \"quantity_in_stock\": 90, \"rating\": 3.7, \"type_of_product\": \"Meat\"},\n",
    "    1014: {\"name\": \"Vegetable oil\", \"price\": 150, \"quantity_in_stock\": 57, \"rating\": 4, \"type_of_product\": \"Edible_Oil\"},\n",
    "    1015: {\"name\": \"Coconut oil\", \"price\": 140, \"quantity_in_stock\": 60, \"rating\": 4.8, \"type_of_product\": \"Edible_Oil\"}\n",
    "}\n",
    "product_remaining = json.dumps(products_details)\n",
    "with open(\"Products.json\", \"w\") as file:\n",
    "    file.write(product_remaining)"
   ]
  },
  {
   "cell_type": "markdown",
   "id": "f3342012",
   "metadata": {},
   "source": [
    "### Accessing the products json file and storing it different platforms like( .txt , .csv, .json )"
   ]
  },
  {
   "cell_type": "code",
   "execution_count": 26,
   "id": "37614450",
   "metadata": {},
   "outputs": [
    {
     "name": "stdout",
     "output_type": "stream",
     "text": [
      "'0000'- to quit shopping\n",
      "'1111'- to list products and details\n",
      "Enter the item_id: 1002\n",
      "\n",
      "\n",
      " Orange\n",
      "Enter the quantity: 2\n",
      "\n",
      "Products     Quantity    Price\n",
      "Orange      -    2   -      140\n",
      "Please , Enter a valid product id...\n",
      "'0000'- to quit shopping\n",
      "'1111'- to list products and details\n",
      "Enter the item_id: 1009\n",
      "\n",
      "\n",
      " Dhall\n",
      "Enter the quantity: 5\n",
      "\n",
      "Products    Quantity    Price\n",
      "Dhall     -     5     -     400\n",
      "Please , Enter a valid product id...\n",
      "'0000'- to quit shopping\n",
      "'1111'- to list products and details\n",
      "Enter the item_id: 1007\n",
      "\n",
      "\n",
      " sugar\n",
      "Enter the quantity: 2\n",
      "\n",
      "Products   Quantity    Price \n",
      "sugar     -    2     -    80\n",
      "Please , Enter a valid product id...\n",
      "'0000'- to quit shopping\n",
      "'1111'- to list products and details\n",
      "Enter the item_id: 0000\n",
      "['Orange      -    2   -      140',\n",
      " 'Dhall     -     5     -     400',\n",
      " 'sugar     -    2     -    80']\n",
      "Total Amount Paid :  220\n",
      "enter your name: Joker\n",
      "Enter your phone number: 587963214587\n",
      "Have A Nice Day , Joker \n"
     ]
    }
   ],
   "source": [
    "import json\n",
    "import time as t\n",
    "from pprint import pprint\n",
    "\n",
    "fd = open(\"Products.json\", \"r\")\n",
    "pro = fd.read()\n",
    "fd.close()\n",
    "products_details = json.loads(pro)\n",
    "\n",
    "\n",
    "user_data = []\n",
    "sale_data = []\n",
    "\n",
    "\n",
    "\n",
    "def shopping():\n",
    "    total = 0\n",
    "    bill=[]\n",
    "    while True:\n",
    "        try:\n",
    "            item_id = input(\"\"\"'0000'- to quit shopping\n",
    "'1111'- to list products and details\n",
    "Enter the item_id: \"\"\")\n",
    "\n",
    "        except (ValueError, UnboundLocalError):\n",
    "            print(\"Item_id should be a valid integer\")\n",
    "\n",
    "        if item_id == '0000':\n",
    "            pprint(bill)\n",
    "            print(\"Total Amount Paid : \",total)\n",
    "            user_name = input(\"enter your name: \")\n",
    "            phone_number = input(\"Enter your phone number: \")\n",
    "            user_detail = f\"name: {user_name}  ,   Phone: {phone_number}\"\n",
    "            user_data.append(user_detail)\n",
    "\n",
    "            print(f\"Have A Nice Day , {user_name} \")\n",
    "            break\n",
    "\n",
    "        if item_id == '1111':\n",
    "            pprint(products_details)\n",
    "\n",
    "        if item_id == '1001':\n",
    "            product = products_details['1001'][\"name\"]\n",
    "            price = products_details['1001'][\"price\"]\n",
    "            print(\"\\n\\n\", products_details['1001'][\"name\"])\n",
    "            quantity = int(input(\"Enter the quantity: \"))\n",
    "            print(\"\\nProducts     Quantity    Price\")\n",
    "            products_details['1001'][\"quantity_in_stock\"] -= quantity\n",
    "            data = f\"{product}      -    {quantity}   -      {quantity*price}\"\n",
    "            sales_data = f\"Name: {product},quantity: {quantity},Total: {quantity*price},time: {t.ctime()}\"\n",
    "            sale_data.append(sales_data)\n",
    "            bill.append(data)\n",
    "            total += quantity*price\n",
    "            print(data)\n",
    "\n",
    "        if item_id == '1002':\n",
    "            product = products_details['1002'][\"name\"]\n",
    "            price = products_details['1002'][\"price\"]\n",
    "            print(\"\\n\\n\", products_details['1002'][\"name\"])\n",
    "            quantity = int(input(\"Enter the quantity: \"))\n",
    "            print(\"\\nProducts     Quantity    Price\")\n",
    "            products_details['1002'][\"quantity_in_stock\"] -= quantity\n",
    "            data = f\"{product}      -    {quantity}   -      {quantity*price}\"\n",
    "            sales_data = f\"Name: {product},quantity: {quantity},Total: {quantity*price},time: {t.ctime()}\"\n",
    "            sale_data.append(sales_data)\n",
    "            bill.append(data)\n",
    "            total += quantity*price\n",
    "            print(data)\n",
    "\n",
    "        if item_id == '1003':\n",
    "            product = products_details['1003'][\"name\"]\n",
    "            price = products_details['1003'][\"price\"]\n",
    "            print(\"\\n\\n\", products_details['1003'][\"name\"])\n",
    "            quantity = int(input(\"Enter the quantity: \"))\n",
    "            print(\"\\nProducts     Quantity    Price \")\n",
    "            products_details['1003'][\"quantity_in_stock\"] -= quantity\n",
    "            data = f\"{product}     -     {quantity}     -     {quantity*price}\"\n",
    "            sales_data = f\"Product_Name: {product},quantity: {quantity},Total: {quantity*price},time: {t.ctime()}\"\n",
    "            sale_data.append(data)\n",
    "            bill.append(data)\n",
    "            total += quantity * price\n",
    "            print(data)\n",
    "\n",
    "        if item_id == '1004':\n",
    "            product = products_details['1004'][\"name\"]\n",
    "            price = products_details['1004'][\"price\"]\n",
    "            print(\"\\n\\n\", products_details['1004'][\"name\"])\n",
    "            quantity = int(input(\"Enter the quantity: \"))\n",
    "            print(\"\\nProducts     Quantity    Price\")\n",
    "            products_details['1004'][\"quantity_in_stock\"] -= quantity\n",
    "            data = f\"{product}     -     {quantity}    -      {quantity*price}\"\n",
    "            sales_data = f\"Product_Name: {product},quantity: {quantity},Total: {quantity*price},time: {t.ctime()}\"\n",
    "            sale_data.append(sales_data)\n",
    "            bill.append(data)\n",
    "            total += quantity * price\n",
    "            print(data)\n",
    "\n",
    "        if item_id == '1005':\n",
    "            product = products_details['1005'][\"name\"]\n",
    "            price = products_details['1005'][\"price\"]\n",
    "            print(\"\\n\\n\", products_details['1005'][\"name\"])\n",
    "            quantity = int(input(\"Enter the quantity: \"))\n",
    "            print(\"\\nProducts     Quantity    Price\")\n",
    "            products_details['1005'][\"quantity_in_stock\"] -= quantity\n",
    "            data = f\"{product}     -     {quantity}    -      {quantity*price}\"\n",
    "            sales_data = f\"Product_Name: {product},quantity: {quantity},Total: {quantity*price},time: {t.ctime()}\"\n",
    "            sale_data.append(sales_data)\n",
    "            bill.append(data)\n",
    "            total += quantity * price\n",
    "            print(data)\n",
    "\n",
    "        if item_id == '1006':\n",
    "            product = products_details['1006'][\"name\"]\n",
    "            price = products_details['1006'][\"price\"]\n",
    "            print(\"\\n\\n\", products_details['1006'][\"name\"])\n",
    "            quantity = int(input(\"Enter the quantity: \"))\n",
    "            print(\"\\nProducts    Quantity     Price\")\n",
    "            products_details['1006'][\"quantity_in_stock\"] -= quantity\n",
    "            data = f\"{product}     -     {quantity}    -      {quantity*price}\"\n",
    "            sales_data = f\"Product_Name: {product},quantity: {quantity},Total: {quantity*price},time: {t.ctime()}\"\n",
    "            sale_data.append(sales_data)\n",
    "            bill.append(data)\n",
    "            total += quantity * price\n",
    "            print(data)\n",
    "\n",
    "        if item_id == '1007':\n",
    "            product = products_details['1007'][\"name\"]\n",
    "            price = products_details['1007'][\"price\"]\n",
    "            print(\"\\n\\n\", products_details['1007'][\"name\"])\n",
    "            quantity = int(input(\"Enter the quantity: \"))\n",
    "            print(\"\\nProducts   Quantity    Price \")\n",
    "            products_details['1007'][\"quantity_in_stock\"] -= quantity\n",
    "            data = f\"{product}     -    {quantity}     -    {quantity*price}\"\n",
    "            sales_data = f\"Product_Name: {product},quantity: {quantity},Total: {quantity*price},time: {t.ctime()}\"\n",
    "            sale_data.append(sales_data)\n",
    "            bill.append(data)\n",
    "            total += quantity * price\n",
    "            print(data)\n",
    "\n",
    "        if item_id == '1008':\n",
    "            product = products_details['1008'][\"name\"]\n",
    "            price = products_details['1008'][\"price\"]\n",
    "            print(\"\\n\\n\", products_details['1008'][\"name\"])\n",
    "            quantity = int(input(\"Enter the quantity: \"))\n",
    "            print(\"\\nProducts   Quantity    Price\")\n",
    "            products_details['1008'][\"quantity_in_stock\"] -= quantity\n",
    "            data = f\"{product}     -    {quantity}     -     {quantity*price}\"\n",
    "            sales_data = f\"Product_Name: {product},quantity: {quantity},Total: {quantity*price},time: {t.ctime()}\"\n",
    "            sale_data.append(sales_data)\n",
    "            bill.append(data)\n",
    "            total += quantity * price\n",
    "            print(data)\n",
    "\n",
    "        if item_id == '1009':\n",
    "            product = products_details['1009'][\"name\"]\n",
    "            price = products_details['1009'][\"price\"]\n",
    "            print(\"\\n\\n\", products_details['1009'][\"name\"])\n",
    "            quantity = int(input(\"Enter the quantity: \"))\n",
    "            print(\"\\nProducts    Quantity    Price\")\n",
    "            products_details['1009'][\"quantity_in_stock\"] -= quantity\n",
    "            data = f\"{product}     -     {quantity}     -     {quantity*price}\"\n",
    "            sales_data = f\"Product_Name: {product},quantity: {quantity},Total: {quantity*price},time: {t.ctime()}\"\n",
    "            sale_data.append(sales_data)\n",
    "            bill.append(data)\n",
    "            print(data)\n",
    "\n",
    "        if item_id == '1010':\n",
    "            product = products_details['1010'][\"name\"]\n",
    "            price = products_details['1010'][\"price\"]\n",
    "            print(\"\\n\\n\", products_details['1010'][\"name\"])\n",
    "            quantity = int(input(\"Enter the quantity: \"))\n",
    "            print(\"\\nProducts   Quantity    Price\")\n",
    "            products_details['1010'][\"quantity_in_stock\"] -= quantity\n",
    "            data = f\"{product}     -     {quantity}     -     {quantity*price}\"\n",
    "            sales_data = f\"Product_Name: {product},quantity: {quantity},Total: {quantity*price},time: {t.ctime()}\"\n",
    "            sale_data.append(sales_data)\n",
    "            bill.append(data)\n",
    "            total += quantity * price\n",
    "            print(data)\n",
    "\n",
    "        if item_id == '1011':\n",
    "            product = products_details['1011'][\"name\"]\n",
    "            price = products_details['1011'][\"price\"]\n",
    "            print(\"\\n\\n\", products_details['1011'][\"name\"])\n",
    "            quantity = int(input(\"Enter the quantity: \"))\n",
    "            print(\"\\nProducts     Quantity     Price\")\n",
    "            products_details['1011'][\"quantity_in_stock\"] -= quantity\n",
    "            data = f\"{product}     -     {quantity}     -    {quantity*price}\"\n",
    "            sales_data = f\"Product_Name: {product},quantity: {quantity},Total: {quantity*price},time: {t.ctime()}\"\n",
    "            sale_data.append(sales_data)\n",
    "            bill.append(data)\n",
    "            total += quantity * price\n",
    "            print(data)\n",
    "\n",
    "        if item_id == '1012':\n",
    "            product = products_details['1012'][\"name\"]\n",
    "            price = products_details['1012'][\"price\"]\n",
    "            print(\"\\n\\n\", products_details['1012'][\"name\"])\n",
    "            quantity = int(input(\"Enter the quantity: \"))\n",
    "            print(\"\\nProducts   Quantity    Price\")\n",
    "            products_details['1012'][\"quantity_in_stock\"] -= quantity\n",
    "            data = f\"{product}     -     {quantity}     -     {quantity*price}\"\n",
    "            sales_data = f\"Product_Name: {product},quantity: {quantity},Total: {quantity*price},time: {t.ctime()}\"\n",
    "            sale_data.append(sales_data)\n",
    "            bill.append(data)\n",
    "            total += quantity * price\n",
    "            print(data)\n",
    "\n",
    "        if item_id == '1013':\n",
    "            product = products_details['1013'][\"name\"]\n",
    "            price = products_details['1013'][\"price\"]\n",
    "            print(\"\\n\\n\", products_details['1013'][\"name\"])\n",
    "            quantity = int(input(\"Enter the quantity: \"))\n",
    "            print(\"\\nProducts   Quantity    Price\")\n",
    "            products_details['1013'][\"quantity_in_stock\"] -= quantity\n",
    "            data = f\"{product}     -     {quantity}     -     {quantity*price}\"\n",
    "            sales_data = f\"Product_Name: {product},quantity: {quantity},Total: {quantity*price},time: {t.ctime()}\"\n",
    "            sale_data.append(sales_data)\n",
    "            bill.append(data)\n",
    "            total += quantity * price\n",
    "            print(data)\n",
    "\n",
    "        if item_id == '1014':\n",
    "            product = products_details['1014'][\"name\"]\n",
    "            price = products_details['1014'][\"price\"]\n",
    "            print(\"\\n\\n\", products_details['1014'][\"name\"])\n",
    "            quantity = int(input(\"Enter the quantity: \"))\n",
    "            print(\"\\nProducts   Quantity    Price\")\n",
    "            products_details['1014'][\"quantity_in_stock\"] -= quantity\n",
    "            data = f\"{product}     -     {quantity}     -     {quantity*price}\"\n",
    "            sales_data = f\"Product_Name: {product},quantity: {quantity},Total: {quantity*price},time: {t.ctime()}\"\n",
    "            sale_data.append(sales_data)\n",
    "            bill.append(data)\n",
    "            total += quantity * price\n",
    "            print(data)\n",
    "\n",
    "        if item_id == '1015':\n",
    "            product = products_details['1015'][\"name\"]\n",
    "            price = products_details['1015'][\"price\"]\n",
    "            print(\"\\n\\n\", products_details['1015'][\"name\"])\n",
    "            quantity = int(input(\"Enter the quantity: \"))\n",
    "            print(\"\\nProducts   Quantity    Price\")\n",
    "            products_details['1015'][\"quantity_in_stock\"] -= quantity\n",
    "            data = f\"{product}     -     {quantity}     -     {quantity*price}\"\n",
    "            sales_data = f\"Product_Name: {product},quantity: {quantity},Total: {quantity*price},time: {t.ctime()}\"\n",
    "            sale_data.append(sales_data)\n",
    "            bill.append(data)\n",
    "            total += quantity * price\n",
    "            print(data)\n",
    "            \n",
    "        else:\n",
    "            print(\"Please , Enter a valid product id...\")\n",
    "\n",
    "\n",
    "shopping()\n",
    "\n",
    "sales = json.dumps(sale_data)\n",
    "with open(\"sales.txt\", \"a\") as sale:\n",
    "    sale.write(sales)\n",
    "    \n",
    "sales = json.dumps(sale_data)\n",
    "with open(\"sales.csv\", \"a\") as sale:\n",
    "    sale.write(sales)\n",
    "    \n",
    "sales = json.dumps(sale_data)\n",
    "with open(\"sales.json\", \"a\") as sale:\n",
    "    sale.write(sales)\n",
    "\n",
    "product_remaining = json.dumps(products_details)\n",
    "with open(\"Products.json\", \"w\") as file:\n",
    "    file.write(product_remaining)\n",
    "\n",
    "product_remaining = json.dumps(products_details)\n",
    "with open(\"Products.txt\", \"w\") as file:\n",
    "    file.write(product_remaining)\n",
    "    \n",
    "product_remaining = json.dumps(products_details)\n",
    "with open(\"Products.csv\", \"w\") as file:\n",
    "    file.write(product_remaining)\n",
    "    \n",
    "user = json.dumps(user_data)\n",
    "with open(\"users.json\", 'a') as users:\n",
    "    users.write(user)\n",
    "\n",
    "user = json.dumps(user_data)\n",
    "with open(\"users.txt\", 'a') as users:\n",
    "    users.write(user)\n",
    "\n",
    "    user = json.dumps(user_data)\n",
    "with open(\"users.csv\", 'a') as users:\n",
    "    users.write(user)"
   ]
  },
  {
   "cell_type": "markdown",
   "id": "73b3af72",
   "metadata": {},
   "source": [
    "## Viewing all the contents in products.json after accessing products.json"
   ]
  },
  {
   "cell_type": "code",
   "execution_count": 35,
   "id": "7d316e81",
   "metadata": {},
   "outputs": [
    {
     "name": "stdout",
     "output_type": "stream",
     "text": [
      "('{\"1001\": {\"name\": \"Apple\", \"price\": 120, \"quantity_in_stock\": 50, \"rating\": '\n",
      " '4.3, \"type_of_product\": \"Fruit\"}, \"1002\": {\"name\": \"Orange\", \"price\": 70, '\n",
      " '\"quantity_in_stock\": 56, \"rating\": 4.2, \"type_of_product\": \"Fruit\"}, \"1003\": '\n",
      " '{\"name\": \"Grapes\", \"price\": 35, \"quantity_in_stock\": 67, \"rating\": 3.5, '\n",
      " '\"type_of_product\": \"Fruit\"}, \"1004\": {\"name\": \"Milk\", \"price\": 30, '\n",
      " '\"quantity_in_stock\": 199, \"rating\": 4, \"type_of_product\": \"Diary\"}, \"1005\": '\n",
      " '{\"name\": \"Butter\", \"price\": 100, \"quantity_in_stock\": 80, \"rating\": 4.9, '\n",
      " '\"type_of_product\": \"Diary\"}, \"1006\": {\"name\": \"Ghee\", \"price\": 150, '\n",
      " '\"quantity_in_stock\": 40, \"rating\": 3.9, \"type_of_product\": \"Diary\"}, \"1007\": '\n",
      " '{\"name\": \"sugar\", \"price\": 40, \"quantity_in_stock\": 98, \"rating\": 3.8, '\n",
      " '\"type_of_product\": \"Grocery\"}, \"1008\": {\"name\": \"Salt\", \"price\": 15, '\n",
      " '\"quantity_in_stock\": 93, \"rating\": 5, \"type_of_product\": \"Grocery\"}, \"1009\": '\n",
      " '{\"name\": \"Dhall\", \"price\": 80, \"quantity_in_stock\": 94, \"rating\": 4, '\n",
      " '\"type_of_product\": \"Grocery\"}, \"1010\": {\"name\": \"Rice\", \"price\": 999, '\n",
      " '\"quantity_in_stock\": 19, \"rating\": 4.5, \"type_of_product\": \"Grocery\"}, '\n",
      " '\"1011\": {\"name\": \"Chicken\", \"price\": 150, \"quantity_in_stock\": 57, \"rating\": '\n",
      " '4.3, \"type_of_product\": \"Meat\"}, \"1012\": {\"name\": \"Fish\", \"price\": 200, '\n",
      " '\"quantity_in_stock\": 58, \"rating\": 4.2, \"type_of_product\": \"Meat\"}, \"1013\": '\n",
      " '{\"name\": \"Mutton\", \"price\": 500, \"quantity_in_stock\": 88, \"rating\": 3.7, '\n",
      " '\"type_of_product\": \"Meat\"}, \"1014\": {\"name\": \"Vegetable oil\", \"price\": 150, '\n",
      " '\"quantity_in_stock\": 55, \"rating\": 4, \"type_of_product\": \"Edible_Oil\"}, '\n",
      " '\"1015\": {\"name\": \"Coconut oil\", \"price\": 140, \"quantity_in_stock\": 59, '\n",
      " '\"rating\": 4.8, \"type_of_product\": \"Edible_Oil\"}}')\n"
     ]
    }
   ],
   "source": [
    "from pprint import pprint\n",
    "with open(\"Products.json\",\"r\") as file:\n",
    "    products=file.read()\n",
    "    pprint(products)"
   ]
  },
  {
   "cell_type": "markdown",
   "id": "942c5c38",
   "metadata": {},
   "source": [
    "## Viewing all the contents in products.csv after accessing products.json"
   ]
  },
  {
   "cell_type": "code",
   "execution_count": 34,
   "id": "b16dbf88",
   "metadata": {},
   "outputs": [
    {
     "name": "stdout",
     "output_type": "stream",
     "text": [
      "('{\"1001\": {\"name\": \"Apple\", \"price\": 120, \"quantity_in_stock\": 50, \"rating\": '\n",
      " '4.3, \"type_of_product\": \"Fruit\"}, \"1002\": {\"name\": \"Orange\", \"price\": 70, '\n",
      " '\"quantity_in_stock\": 56, \"rating\": 4.2, \"type_of_product\": \"Fruit\"}, \"1003\": '\n",
      " '{\"name\": \"Grapes\", \"price\": 35, \"quantity_in_stock\": 67, \"rating\": 3.5, '\n",
      " '\"type_of_product\": \"Fruit\"}, \"1004\": {\"name\": \"Milk\", \"price\": 30, '\n",
      " '\"quantity_in_stock\": 199, \"rating\": 4, \"type_of_product\": \"Diary\"}, \"1005\": '\n",
      " '{\"name\": \"Butter\", \"price\": 100, \"quantity_in_stock\": 80, \"rating\": 4.9, '\n",
      " '\"type_of_product\": \"Diary\"}, \"1006\": {\"name\": \"Ghee\", \"price\": 150, '\n",
      " '\"quantity_in_stock\": 40, \"rating\": 3.9, \"type_of_product\": \"Diary\"}, \"1007\": '\n",
      " '{\"name\": \"sugar\", \"price\": 40, \"quantity_in_stock\": 98, \"rating\": 3.8, '\n",
      " '\"type_of_product\": \"Grocery\"}, \"1008\": {\"name\": \"Salt\", \"price\": 15, '\n",
      " '\"quantity_in_stock\": 93, \"rating\": 5, \"type_of_product\": \"Grocery\"}, \"1009\": '\n",
      " '{\"name\": \"Dhall\", \"price\": 80, \"quantity_in_stock\": 94, \"rating\": 4, '\n",
      " '\"type_of_product\": \"Grocery\"}, \"1010\": {\"name\": \"Rice\", \"price\": 999, '\n",
      " '\"quantity_in_stock\": 19, \"rating\": 4.5, \"type_of_product\": \"Grocery\"}, '\n",
      " '\"1011\": {\"name\": \"Chicken\", \"price\": 150, \"quantity_in_stock\": 57, \"rating\": '\n",
      " '4.3, \"type_of_product\": \"Meat\"}, \"1012\": {\"name\": \"Fish\", \"price\": 200, '\n",
      " '\"quantity_in_stock\": 58, \"rating\": 4.2, \"type_of_product\": \"Meat\"}, \"1013\": '\n",
      " '{\"name\": \"Mutton\", \"price\": 500, \"quantity_in_stock\": 88, \"rating\": 3.7, '\n",
      " '\"type_of_product\": \"Meat\"}, \"1014\": {\"name\": \"Vegetable oil\", \"price\": 150, '\n",
      " '\"quantity_in_stock\": 55, \"rating\": 4, \"type_of_product\": \"Edible_Oil\"}, '\n",
      " '\"1015\": {\"name\": \"Coconut oil\", \"price\": 140, \"quantity_in_stock\": 59, '\n",
      " '\"rating\": 4.8, \"type_of_product\": \"Edible_Oil\"}}')\n"
     ]
    }
   ],
   "source": [
    "from pprint import pprint\n",
    "with open(\"Products.csv\",\"r\") as file:\n",
    "    products=file.read()\n",
    "    pprint(products)"
   ]
  },
  {
   "cell_type": "markdown",
   "id": "5e64fc9f",
   "metadata": {},
   "source": [
    "## Viewing all the contents in products.txt after accessing products.json"
   ]
  },
  {
   "cell_type": "code",
   "execution_count": 33,
   "id": "5b4e0882",
   "metadata": {},
   "outputs": [
    {
     "name": "stdout",
     "output_type": "stream",
     "text": [
      "('{\"1001\": {\"name\": \"Apple\", \"price\": 120, \"quantity_in_stock\": 50, \"rating\": '\n",
      " '4.3, \"type_of_product\": \"Fruit\"}, \"1002\": {\"name\": \"Orange\", \"price\": 70, '\n",
      " '\"quantity_in_stock\": 56, \"rating\": 4.2, \"type_of_product\": \"Fruit\"}, \"1003\": '\n",
      " '{\"name\": \"Grapes\", \"price\": 35, \"quantity_in_stock\": 67, \"rating\": 3.5, '\n",
      " '\"type_of_product\": \"Fruit\"}, \"1004\": {\"name\": \"Milk\", \"price\": 30, '\n",
      " '\"quantity_in_stock\": 199, \"rating\": 4, \"type_of_product\": \"Diary\"}, \"1005\": '\n",
      " '{\"name\": \"Butter\", \"price\": 100, \"quantity_in_stock\": 80, \"rating\": 4.9, '\n",
      " '\"type_of_product\": \"Diary\"}, \"1006\": {\"name\": \"Ghee\", \"price\": 150, '\n",
      " '\"quantity_in_stock\": 40, \"rating\": 3.9, \"type_of_product\": \"Diary\"}, \"1007\": '\n",
      " '{\"name\": \"sugar\", \"price\": 40, \"quantity_in_stock\": 98, \"rating\": 3.8, '\n",
      " '\"type_of_product\": \"Grocery\"}, \"1008\": {\"name\": \"Salt\", \"price\": 15, '\n",
      " '\"quantity_in_stock\": 93, \"rating\": 5, \"type_of_product\": \"Grocery\"}, \"1009\": '\n",
      " '{\"name\": \"Dhall\", \"price\": 80, \"quantity_in_stock\": 94, \"rating\": 4, '\n",
      " '\"type_of_product\": \"Grocery\"}, \"1010\": {\"name\": \"Rice\", \"price\": 999, '\n",
      " '\"quantity_in_stock\": 19, \"rating\": 4.5, \"type_of_product\": \"Grocery\"}, '\n",
      " '\"1011\": {\"name\": \"Chicken\", \"price\": 150, \"quantity_in_stock\": 57, \"rating\": '\n",
      " '4.3, \"type_of_product\": \"Meat\"}, \"1012\": {\"name\": \"Fish\", \"price\": 200, '\n",
      " '\"quantity_in_stock\": 58, \"rating\": 4.2, \"type_of_product\": \"Meat\"}, \"1013\": '\n",
      " '{\"name\": \"Mutton\", \"price\": 500, \"quantity_in_stock\": 88, \"rating\": 3.7, '\n",
      " '\"type_of_product\": \"Meat\"}, \"1014\": {\"name\": \"Vegetable oil\", \"price\": 150, '\n",
      " '\"quantity_in_stock\": 55, \"rating\": 4, \"type_of_product\": \"Edible_Oil\"}, '\n",
      " '\"1015\": {\"name\": \"Coconut oil\", \"price\": 140, \"quantity_in_stock\": 59, '\n",
      " '\"rating\": 4.8, \"type_of_product\": \"Edible_Oil\"}}')\n"
     ]
    }
   ],
   "source": [
    "from pprint import pprint\n",
    "with open(\"Products.txt\",\"r\") as file:\n",
    "    products=file.read()\n",
    "    pprint(products)"
   ]
  },
  {
   "cell_type": "markdown",
   "id": "a0852e0f",
   "metadata": {},
   "source": [
    "## Viewing all the contents in sales.txt after accessing products.json"
   ]
  },
  {
   "cell_type": "code",
   "execution_count": 32,
   "id": "a5eef4f5",
   "metadata": {},
   "outputs": [
    {
     "name": "stdout",
     "output_type": "stream",
     "text": [
      "('[\"Name: Orange,quantity: 1,Total: 70,time: Fri Sep  3 08:36:21 2021\", \"Name: '\n",
      " 'Apple,quantity: 1,Total: 120,time: Fri Sep  3 08:36:30 2021\", \"Grapes     '\n",
      " '-     3     -     105\", \"Name: Orange,quantity: 1,Total: 70,time: Fri Sep  3 '\n",
      " '08:36:38 2021\"][\"Product_Name: Salt,quantity: 1,Total: 15,time: Fri Sep  3 '\n",
      " '08:37:22 2021\", \"Product_Name: Milk,quantity: 1,Total: 30,time: Fri Sep  3 '\n",
      " '08:37:25 2021\", \"Product_Name: Salt,quantity: 6,Total: 90,time: Fri Sep  3 '\n",
      " '08:37:33 2021\", \"Product_Name: Coconut oil,quantity: 1,Total: 140,time: Fri '\n",
      " 'Sep  3 08:37:40 2021\"][\"Product_Name: Rice,quantity: 1,Total: 999,time: Fri '\n",
      " 'Sep  3 08:38:39 2021\", \"Product_Name: Fish,quantity: 2,Total: 400,time: Fri '\n",
      " 'Sep  3 08:38:45 2021\", \"Product_Name: Vegetable oil,quantity: 2,Total: '\n",
      " '300,time: Fri Sep  3 08:38:51 2021\"][\"Product_Name: Dhall,quantity: 1,Total: '\n",
      " '80,time: Fri Sep  3 08:40:02 2021\", \"Product_Name: Mutton,quantity: 2,Total: '\n",
      " '1000,time: Fri Sep  3 08:40:08 2021\"][\"Name: Orange,quantity: 2,Total: '\n",
      " '140,time: Fri Sep  3 08:40:43 2021\", \"Product_Name: Dhall,quantity: 5,Total: '\n",
      " '400,time: Fri Sep  3 08:40:53 2021\", \"Product_Name: sugar,quantity: 2,Total: '\n",
      " '80,time: Fri Sep  3 08:41:26 2021\"]')\n"
     ]
    }
   ],
   "source": [
    "from pprint import pprint\n",
    "with open(\"sales.txt\",\"r\") as file:\n",
    "    products=file.read()\n",
    "    pprint(products)"
   ]
  },
  {
   "cell_type": "markdown",
   "id": "ac4dbf55",
   "metadata": {},
   "source": [
    "## Viewing all the contents in sales.json after accessing products.json"
   ]
  },
  {
   "cell_type": "code",
   "execution_count": 31,
   "id": "33910325",
   "metadata": {},
   "outputs": [
    {
     "name": "stdout",
     "output_type": "stream",
     "text": [
      "('[\"Name: Orange,quantity: 1,Total: 70,time: Fri Sep  3 08:36:21 2021\", \"Name: '\n",
      " 'Apple,quantity: 1,Total: 120,time: Fri Sep  3 08:36:30 2021\", \"Grapes     '\n",
      " '-     3     -     105\", \"Name: Orange,quantity: 1,Total: 70,time: Fri Sep  3 '\n",
      " '08:36:38 2021\"][\"Product_Name: Salt,quantity: 1,Total: 15,time: Fri Sep  3 '\n",
      " '08:37:22 2021\", \"Product_Name: Milk,quantity: 1,Total: 30,time: Fri Sep  3 '\n",
      " '08:37:25 2021\", \"Product_Name: Salt,quantity: 6,Total: 90,time: Fri Sep  3 '\n",
      " '08:37:33 2021\", \"Product_Name: Coconut oil,quantity: 1,Total: 140,time: Fri '\n",
      " 'Sep  3 08:37:40 2021\"][\"Product_Name: Rice,quantity: 1,Total: 999,time: Fri '\n",
      " 'Sep  3 08:38:39 2021\", \"Product_Name: Fish,quantity: 2,Total: 400,time: Fri '\n",
      " 'Sep  3 08:38:45 2021\", \"Product_Name: Vegetable oil,quantity: 2,Total: '\n",
      " '300,time: Fri Sep  3 08:38:51 2021\"][\"Product_Name: Dhall,quantity: 1,Total: '\n",
      " '80,time: Fri Sep  3 08:40:02 2021\", \"Product_Name: Mutton,quantity: 2,Total: '\n",
      " '1000,time: Fri Sep  3 08:40:08 2021\"][\"Name: Orange,quantity: 2,Total: '\n",
      " '140,time: Fri Sep  3 08:40:43 2021\", \"Product_Name: Dhall,quantity: 5,Total: '\n",
      " '400,time: Fri Sep  3 08:40:53 2021\", \"Product_Name: sugar,quantity: 2,Total: '\n",
      " '80,time: Fri Sep  3 08:41:26 2021\"]')\n"
     ]
    }
   ],
   "source": [
    "from pprint import pprint\n",
    "with open(\"sales.json\",\"r\") as file:\n",
    "    products=file.read()\n",
    "    pprint(products)"
   ]
  },
  {
   "cell_type": "markdown",
   "id": "ee08446c",
   "metadata": {},
   "source": [
    "## Viewing all the contents in sales.csv after accessing products.json"
   ]
  },
  {
   "cell_type": "code",
   "execution_count": 30,
   "id": "88271e7a",
   "metadata": {},
   "outputs": [
    {
     "name": "stdout",
     "output_type": "stream",
     "text": [
      "('[\"Name: Orange,quantity: 1,Total: 70,time: Fri Sep  3 08:36:21 2021\", \"Name: '\n",
      " 'Apple,quantity: 1,Total: 120,time: Fri Sep  3 08:36:30 2021\", \"Grapes     '\n",
      " '-     3     -     105\", \"Name: Orange,quantity: 1,Total: 70,time: Fri Sep  3 '\n",
      " '08:36:38 2021\"][\"Product_Name: Salt,quantity: 1,Total: 15,time: Fri Sep  3 '\n",
      " '08:37:22 2021\", \"Product_Name: Milk,quantity: 1,Total: 30,time: Fri Sep  3 '\n",
      " '08:37:25 2021\", \"Product_Name: Salt,quantity: 6,Total: 90,time: Fri Sep  3 '\n",
      " '08:37:33 2021\", \"Product_Name: Coconut oil,quantity: 1,Total: 140,time: Fri '\n",
      " 'Sep  3 08:37:40 2021\"][\"Product_Name: Rice,quantity: 1,Total: 999,time: Fri '\n",
      " 'Sep  3 08:38:39 2021\", \"Product_Name: Fish,quantity: 2,Total: 400,time: Fri '\n",
      " 'Sep  3 08:38:45 2021\", \"Product_Name: Vegetable oil,quantity: 2,Total: '\n",
      " '300,time: Fri Sep  3 08:38:51 2021\"][\"Product_Name: Dhall,quantity: 1,Total: '\n",
      " '80,time: Fri Sep  3 08:40:02 2021\", \"Product_Name: Mutton,quantity: 2,Total: '\n",
      " '1000,time: Fri Sep  3 08:40:08 2021\"][\"Name: Orange,quantity: 2,Total: '\n",
      " '140,time: Fri Sep  3 08:40:43 2021\", \"Product_Name: Dhall,quantity: 5,Total: '\n",
      " '400,time: Fri Sep  3 08:40:53 2021\", \"Product_Name: sugar,quantity: 2,Total: '\n",
      " '80,time: Fri Sep  3 08:41:26 2021\"]')\n"
     ]
    }
   ],
   "source": [
    "from pprint import pprint\n",
    "with open(\"sales.csv\",\"r\") as file:\n",
    "    products=file.read()\n",
    "    pprint(products)"
   ]
  },
  {
   "cell_type": "markdown",
   "id": "bec2c3e1",
   "metadata": {},
   "source": [
    "## Viewing all the contents in user.txt after accessing products.json"
   ]
  },
  {
   "cell_type": "code",
   "execution_count": 29,
   "id": "5b59129d",
   "metadata": {},
   "outputs": [
    {
     "name": "stdout",
     "output_type": "stream",
     "text": [
      "('[\"name: Manoj  ,   Phone: 8605463210\"][\"name: Charan  ,   Phone: '\n",
      " '9873564125\"][\"name: Harry  ,   Phone: 7536248562\"][\"name: Batman  ,   Phone: '\n",
      " '5863214856\"][\"name: Joker  ,   Phone: 587963214587\"]')\n"
     ]
    }
   ],
   "source": [
    "from pprint import pprint\n",
    "with open(\"users.txt\",\"r\") as file:\n",
    "    products=file.read()\n",
    "    pprint(products)"
   ]
  },
  {
   "cell_type": "markdown",
   "id": "f6005980",
   "metadata": {},
   "source": [
    "## Viewing all the contents in users.json after accessing products.json"
   ]
  },
  {
   "cell_type": "code",
   "execution_count": 28,
   "id": "f21d5030",
   "metadata": {},
   "outputs": [
    {
     "name": "stdout",
     "output_type": "stream",
     "text": [
      "('[\"name: Manoj  ,   Phone: 8605463210\"][\"name: Charan  ,   Phone: '\n",
      " '9873564125\"][\"name: Harry  ,   Phone: 7536248562\"][\"name: Batman  ,   Phone: '\n",
      " '5863214856\"][\"name: Joker  ,   Phone: 587963214587\"]')\n"
     ]
    }
   ],
   "source": [
    "from pprint import pprint\n",
    "with open(\"users.json\",\"r\") as file:\n",
    "    products=file.read()\n",
    "    pprint(products)"
   ]
  },
  {
   "cell_type": "markdown",
   "id": "55c18d57",
   "metadata": {},
   "source": [
    "## Viewing all the contents in users.csv after accessing products.json"
   ]
  },
  {
   "cell_type": "code",
   "execution_count": 27,
   "id": "5467d42c",
   "metadata": {},
   "outputs": [
    {
     "name": "stdout",
     "output_type": "stream",
     "text": [
      "('[\"name: Manoj  ,   Phone: 8605463210\"][\"name: Charan  ,   Phone: '\n",
      " '9873564125\"][\"name: Harry  ,   Phone: 7536248562\"][\"name: Batman  ,   Phone: '\n",
      " '5863214856\"][\"name: Joker  ,   Phone: 587963214587\"]')\n"
     ]
    }
   ],
   "source": [
    "from pprint import pprint\n",
    "with open(\"users.csv\",\"r\") as file:\n",
    "    products=file.read()\n",
    "    pprint(products)"
   ]
  }
 ],
 "metadata": {
  "kernelspec": {
   "display_name": "Python 3",
   "language": "python",
   "name": "python3"
  },
  "language_info": {
   "codemirror_mode": {
    "name": "ipython",
    "version": 3
   },
   "file_extension": ".py",
   "mimetype": "text/x-python",
   "name": "python",
   "nbconvert_exporter": "python",
   "pygments_lexer": "ipython3",
   "version": "3.8.8"
  }
 },
 "nbformat": 4,
 "nbformat_minor": 5
}
