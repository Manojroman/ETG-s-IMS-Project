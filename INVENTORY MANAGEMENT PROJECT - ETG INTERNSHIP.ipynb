{
 "cells": [
  {
   "cell_type": "markdown",
   "id": "41126e8c",
   "metadata": {},
   "source": [
    "## Creating json file for products  \n",
    "\n",
    "### (NOTE : To be executed iniatially and next time to update values of products)"
   ]
  },
  {
   "cell_type": "code",
   "execution_count": 34,
   "id": "92e5e00d",
   "metadata": {},
   "outputs": [],
   "source": [
    "import json\n",
    "\n",
    "products_details = {\n",
    "    1001: {\"name\": \"Apple\", \"price\": 120, \"quantity_in_stock\": 51, \"rating\": 4.3, \"type_of_product\": \"Fruit\"},\n",
    "    1002: {\"name\": \"Orange\", \"price\": 70, \"quantity_in_stock\": 60, \"rating\": 4.2, \"type_of_product\": \"Fruit\"},\n",
    "    1003: {\"name\": \"Grapes\", \"price\": 35, \"quantity_in_stock\": 70, \"rating\": 3.5, \"type_of_product\": \"Fruit\"},\n",
    "    1004: {\"name\": \"Milk\", \"price\": 30, \"quantity_in_stock\": 200, \"rating\": 4, \"type_of_product\": \"Diary\"},\n",
    "    1005: {\"name\": \"Butter\", \"price\": 100, \"quantity_in_stock\": 80, \"rating\": 4.9, \"type_of_product\": \"Diary\"},\n",
    "    1006: {\"name\": \"Ghee\", \"price\": 150, \"quantity_in_stock\": 40, \"rating\": 3.9, \"type_of_product\": \"Diary\"},\n",
    "    1007: {\"name\": \"sugar\", \"price\": 40, \"quantity_in_stock\": 100, \"rating\": 3.8, \"type_of_product\": \"Grocery\"},\n",
    "    1008: {\"name\": \"Salt\", \"price\": 15, \"quantity_in_stock\": 100, \"rating\": 5, \"type_of_product\": \"Grocery\"},\n",
    "    1009: {\"name\": \"Dhall\", \"price\": 80, \"quantity_in_stock\": 100, \"rating\": 4, \"type_of_product\": \"Grocery\"},\n",
    "    1010: {\"name\": \"Rice\", \"price\": 999, \"quantity_in_stock\": 20, \"rating\": 4.5, \"type_of_product\": \"Grocery\"},\n",
    "    1011: {\"name\": \"Chicken\", \"price\": 150, \"quantity_in_stock\": 57, \"rating\": 4.3, \"type_of_product\": \"Meat\"},\n",
    "    1012: {\"name\": \"Fish\", \"price\": 200, \"quantity_in_stock\": 60, \"rating\": 4.2, \"type_of_product\": \"Meat\"},\n",
    "    1013: {\"name\": \"Mutton\", \"price\": 500, \"quantity_in_stock\": 90, \"rating\": 3.7, \"type_of_product\": \"Meat\"},\n",
    "    1014: {\"name\": \"Vegetable oil\", \"price\": 150, \"quantity_in_stock\": 57, \"rating\": 4, \"type_of_product\": \"Edible_Oil\"},\n",
    "    1015: {\"name\": \"Coconut oil\", \"price\": 140, \"quantity_in_stock\": 60, \"rating\": 4.8, \"type_of_product\": \"Edible_Oil\"}\n",
    "}\n",
    "product_remaining = json.dumps(products_details)\n",
    "with open(\"Products.json\", \"w\") as file:\n",
    "    file.write(product_remaining)"
   ]
  },
  {
   "cell_type": "markdown",
   "id": "f3342012",
   "metadata": {},
   "source": [
    "### Accessing the products json file and storing it different platforms like( .txt , .csv, .json )"
   ]
  },
  {
   "cell_type": "code",
   "execution_count": 6,
   "id": "37614450",
   "metadata": {},
   "outputs": [
    {
     "name": "stdout",
     "output_type": "stream",
     "text": [
      "'0000'- to quit shopping\n",
      "'1111'- to list products and details\n",
      "Enter the item_id: 1001\n",
      "\n",
      "\n",
      " Apple\n",
      "Enter the quantity: 1\n",
      "\n",
      "Products     Quantity    Price\n",
      "Apple  -   1  -   120\n",
      "'0000'- to quit shopping\n",
      "'1111'- to list products and details\n",
      "Enter the item_id: 1004\n",
      "\n",
      "\n",
      " Milk\n",
      "Enter the quantity: 1\n",
      "\n",
      "Products     Quantity    Price\n",
      "Milk  -   1  -   30\n",
      "'0000'- to quit shopping\n",
      "'1111'- to list products and details\n",
      "Enter the item_id: 1006\n",
      "\n",
      "\n",
      " Ghee\n",
      "Enter the quantity: 1\n",
      "\n",
      "Products    Quantity     Price\n",
      "Ghee  -   1  -   150\n",
      "'0000'- to quit shopping\n",
      "'1111'- to list products and details\n",
      "Enter the item_id: 0000\n",
      "'Apple  -   1  -   120'\n",
      "'Milk  -   1  -   30'\n",
      "'Ghee  -   1  -   150'\n",
      "Total Amount Paid :  300\n",
      "enter your name: Aravind\n",
      "Enter your phone number: 8462315970\n",
      "\n",
      " Have A Nice Day , ARAVIND \n"
     ]
    }
   ],
   "source": [
    "import json\n",
    "import time as t\n",
    "from pprint import pprint\n",
    "import string\n",
    "import random\n",
    "\n",
    "fd = open(\"Products.json\", \"r\")\n",
    "pro = fd.read()\n",
    "fd.close()\n",
    "products_details = json.loads(pro)\n",
    "\n",
    "\n",
    "user_data = {}\n",
    "sale_data = {}\n",
    "\n",
    "\n",
    "\n",
    "def shopping():\n",
    "    total = 0\n",
    "    bill=[]\n",
    "    while True:\n",
    "        try:\n",
    "            item_id = input(\"\"\"'0000'- to quit shopping\n",
    "'1111'- to list products and details\n",
    "Enter the item_id: \"\"\")\n",
    "\n",
    "        except (ValueError, UnboundLocalError):\n",
    "            print(\"Item_id should be a valid integer\")\n",
    "\n",
    "        if item_id == '0000':\n",
    "            for items in bill:\n",
    "                pprint(items)\n",
    "            print(\"Total Amount Paid : \",total)\n",
    "            user_name = input(\"enter your name: \").upper()\n",
    "            phone_number = input(\"Enter your phone number: \")\n",
    "            user_data[user_name]=phone_number\n",
    "            print(\"\\n\",f\"Have A Nice Day , {user_name} \")\n",
    "            break\n",
    "\n",
    "        if item_id == '1111':\n",
    "            pprint(products_details)\n",
    "\n",
    "        if item_id == '1001':\n",
    "            product = products_details['1001'][\"name\"]\n",
    "            price = products_details['1001'][\"price\"]\n",
    "            print(\"\\n\\n\", products_details['1001'][\"name\"])\n",
    "            quantity = int(input(\"Enter the quantity: \"))\n",
    "            print(\"\\nProducts     Quantity    Price\")\n",
    "            products_details['1001'][\"quantity_in_stock\"] -= quantity\n",
    "            data = f\"{product}  -   {quantity}  -   {quantity*price}\"\n",
    "            product_entry = \"\".join(random.choices(string.digits, k=8))\n",
    "            sales_data = f\"Product Name: {product},quantity: {quantity},Total: {quantity*price},time: {t.ctime()}\"\n",
    "            sale_data[product_entry] = sales_data\n",
    "            bill.append(data)\n",
    "            total += quantity*price\n",
    "            print(data)\n",
    "\n",
    "        if item_id == '1002':\n",
    "            product = products_details['1002'][\"name\"]\n",
    "            price = products_details['1002'][\"price\"]\n",
    "            print(\"\\n\\n\", products_details['1002'][\"name\"])\n",
    "            quantity = int(input(\"Enter the quantity: \"))\n",
    "            print(\"\\nProducts     Quantity    Price\")\n",
    "            products_details['1002'][\"quantity_in_stock\"] -= quantity\n",
    "            data = f\"{product}  -   {quantity}  -   {quantity*price}\"\n",
    "            product_entry = \"\".join(random.choices(string.digits, k=8))\n",
    "            sales_data = f\"Product Name: {product},quantity: {quantity},Total: {quantity*price},time: {t.ctime()}\"\n",
    "            sale_data[product_entry] = sales_data\n",
    "            bill.append(data)\n",
    "            total += quantity*price\n",
    "            print(data)\n",
    "\n",
    "        if item_id == '1003':\n",
    "            product = products_details['1003'][\"name\"]\n",
    "            price = products_details['1003'][\"price\"]\n",
    "            print(\"\\n\\n\", products_details['1003'][\"name\"])\n",
    "            quantity = int(input(\"Enter the quantity: \"))\n",
    "            print(\"\\nProducts     Quantity    Price \")\n",
    "            products_details['1003'][\"quantity_in_stock\"] -= quantity\n",
    "            data = f\"{product}  -   {quantity}  -   {quantity*price}\"\n",
    "            product_entry = \"\".join(random.choices(string.digits, k=8))\n",
    "            sales_data = f\"Product Name: {product},quantity: {quantity},Total: {quantity*price},time: {t.ctime()}\"\n",
    "            sale_data[product_entry] = sales_data\n",
    "            bill.append(data)\n",
    "            total += quantity * price\n",
    "            print(data)\n",
    "\n",
    "        if item_id == '1004':\n",
    "            product = products_details['1004'][\"name\"]\n",
    "            price = products_details['1004'][\"price\"]\n",
    "            print(\"\\n\\n\", products_details['1004'][\"name\"])\n",
    "            quantity = int(input(\"Enter the quantity: \"))\n",
    "            print(\"\\nProducts     Quantity    Price\")\n",
    "            products_details['1004'][\"quantity_in_stock\"] -= quantity\n",
    "            data = f\"{product}  -   {quantity}  -   {quantity*price}\"\n",
    "            product_entry = \"\".join(random.choices(string.digits, k=8))\n",
    "            sales_data = f\"Product Name: {product},quantity: {quantity},Total: {quantity*price},time: {t.ctime()}\"\n",
    "            sale_data[product_entry] = sales_data\n",
    "            bill.append(data)\n",
    "            total += quantity * price\n",
    "            print(data)\n",
    "\n",
    "        if item_id == '1005':\n",
    "            product = products_details['1005'][\"name\"]\n",
    "            price = products_details['1005'][\"price\"]\n",
    "            print(\"\\n\\n\", products_details['1005'][\"name\"])\n",
    "            quantity = int(input(\"Enter the quantity: \"))\n",
    "            print(\"\\nProducts     Quantity    Price\")\n",
    "            products_details['1005'][\"quantity_in_stock\"] -= quantity\n",
    "            data = f\"{product}  -   {quantity}  -   {quantity*price}\"\n",
    "            product_entry = \"\".join(random.choices(string.digits, k=8))\n",
    "            sales_data = f\"Product Name: {product},quantity: {quantity},Total: {quantity*price},time: {t.ctime()}\"\n",
    "            sale_data[product_entry] = sales_data\n",
    "            bill.append(data)\n",
    "            total += quantity * price\n",
    "            print(data)\n",
    "\n",
    "        if item_id == '1006':\n",
    "            product = products_details['1006'][\"name\"]\n",
    "            price = products_details['1006'][\"price\"]\n",
    "            print(\"\\n\\n\", products_details['1006'][\"name\"])\n",
    "            quantity = int(input(\"Enter the quantity: \"))\n",
    "            print(\"\\nProducts    Quantity     Price\")\n",
    "            products_details['1006'][\"quantity_in_stock\"] -= quantity\n",
    "            data = f\"{product}  -   {quantity}  -   {quantity*price}\"\n",
    "            product_entry = \"\".join(random.choices(string.digits, k=8))\n",
    "            sales_data = f\"Product Name: {product},quantity: {quantity},Total: {quantity*price},time: {t.ctime()}\"\n",
    "            sale_data[product_entry] = sales_data\n",
    "            bill.append(data)\n",
    "            total += quantity * price\n",
    "            print(data)\n",
    "\n",
    "        if item_id == '1007':\n",
    "            product = products_details['1007'][\"name\"]\n",
    "            price = products_details['1007'][\"price\"]\n",
    "            print(\"\\n\\n\", products_details['1007'][\"name\"])\n",
    "            quantity = int(input(\"Enter the quantity: \"))\n",
    "            print(\"\\nProducts   Quantity    Price \")\n",
    "            products_details['1007'][\"quantity_in_stock\"] -= quantity\n",
    "            data = f\"{product}  -   {quantity}  -   {quantity*price}\"\n",
    "            product_entry = \"\".join(random.choices(string.digits, k=8))\n",
    "            sales_data = f\"Product Name: {product},quantity: {quantity},Total: {quantity*price},time: {t.ctime()}\"\n",
    "            sale_data[product_entry] = sales_data\n",
    "            bill.append(data)\n",
    "            total += quantity * price\n",
    "            print(data)\n",
    "\n",
    "        if item_id == '1008':\n",
    "            product = products_details['1008'][\"name\"]\n",
    "            price = products_details['1008'][\"price\"]\n",
    "            print(\"\\n\\n\", products_details['1008'][\"name\"])\n",
    "            quantity = int(input(\"Enter the quantity: \"))\n",
    "            print(\"\\nProducts   Quantity    Price\")\n",
    "            products_details['1008'][\"quantity_in_stock\"] -= quantity\n",
    "            data = f\"{product}  -   {quantity}  -   {quantity*price}\"\n",
    "            product_entry = \"\".join(random.choices(string.digits, k=8))\n",
    "            sales_data = f\"Product Name: {product},quantity: {quantity},Total: {quantity*price},time: {t.ctime()}\"\n",
    "            sale_data[product_entry] = sales_data\n",
    "            bill.append(data)\n",
    "            total += quantity * price\n",
    "            print(data)\n",
    "\n",
    "        if item_id == '1009':\n",
    "            product = products_details['1009'][\"name\"]\n",
    "            price = products_details['1009'][\"price\"]\n",
    "            print(\"\\n\\n\", products_details['1009'][\"name\"])\n",
    "            quantity = int(input(\"Enter the quantity: \"))\n",
    "            print(\"\\nProducts    Quantity    Price\")\n",
    "            products_details['1009'][\"quantity_in_stock\"] -= quantity\n",
    "            data = f\"{product}  -   {quantity}  -   {quantity*price}\"\n",
    "            product_entry = \"\".join(random.choices(string.digits, k=8))\n",
    "            sales_data = f\"Product Name: {product},quantity: {quantity},Total: {quantity*price},time: {t.ctime()}\"\n",
    "            sale_data[product_entry] = sales_data\n",
    "            bill.append(data)\n",
    "            total += quantity * price\n",
    "            print(data)\n",
    "\n",
    "        if item_id == '1010':\n",
    "            product = products_details['1010'][\"name\"]\n",
    "            price = products_details['1010'][\"price\"]\n",
    "            print(\"\\n\\n\", products_details['1010'][\"name\"])\n",
    "            quantity = int(input(\"Enter the quantity: \"))\n",
    "            print(\"\\nProducts   Quantity    Price\")\n",
    "            products_details['1010'][\"quantity_in_stock\"] -= quantity\n",
    "            data = f\"{product}  -   {quantity}  -   {quantity*price}\"\n",
    "            product_entry = \"\".join(random.choices(string.digits, k=8))\n",
    "            sales_data = f\"Product Name: {product},quantity: {quantity},Total: {quantity*price},time: {t.ctime()}\"\n",
    "            sale_data[product_entry] = sales_data\n",
    "            bill.append(data)\n",
    "            total += quantity * price\n",
    "            print(data)\n",
    "\n",
    "        if item_id == '1011':\n",
    "            product = products_details['1011'][\"name\"]\n",
    "            price = products_details['1011'][\"price\"]\n",
    "            print(\"\\n\\n\", products_details['1011'][\"name\"])\n",
    "            quantity = int(input(\"Enter the quantity: \"))\n",
    "            print(\"\\nProducts     Quantity     Price\")\n",
    "            products_details['1011'][\"quantity_in_stock\"] -= quantity\n",
    "            data = f\"{product}  -   {quantity}  -   {quantity*price}\"\n",
    "            product_entry = \"\".join(random.choices(string.digits, k=8))\n",
    "            sales_data = f\"Product Name: {product},quantity: {quantity},Total: {quantity*price},time: {t.ctime()}\"\n",
    "            sale_data[product_entry] = sales_data\n",
    "            bill.append(data)\n",
    "            total += quantity * price\n",
    "            print(data)\n",
    "\n",
    "        if item_id == '1012':\n",
    "            product = products_details['1012'][\"name\"]\n",
    "            price = products_details['1012'][\"price\"]\n",
    "            print(\"\\n\\n\", products_details['1012'][\"name\"])\n",
    "            quantity = int(input(\"Enter the quantity: \"))\n",
    "            print(\"\\nProducts   Quantity    Price\")\n",
    "            products_details['1012'][\"quantity_in_stock\"] -= quantity\n",
    "            data = f\"{product}  -   {quantity}  -   {quantity*price}\"\n",
    "            product_entry = \"\".join(random.choices(string.digits, k=8))\n",
    "            sales_data = f\"Product Name: {product},quantity: {quantity},Total: {quantity*price},time: {t.ctime()}\"\n",
    "            sale_data[product_entry] = sales_data\n",
    "            bill.append(data)\n",
    "            total += quantity * price\n",
    "            print(data)\n",
    "\n",
    "        if item_id == '1013':\n",
    "            product = products_details['1013'][\"name\"]\n",
    "            price = products_details['1013'][\"price\"]\n",
    "            print(\"\\n\\n\", products_details['1013'][\"name\"])\n",
    "            quantity = int(input(\"Enter the quantity: \"))\n",
    "            print(\"\\nProducts   Quantity    Price\")\n",
    "            products_details['1013'][\"quantity_in_stock\"] -= quantity\n",
    "            data = f\"{product}  -   {quantity}  -   {quantity*price}\"\n",
    "            product_entry = \"\".join(random.choices(string.digits, k=8))\n",
    "            sales_data = f\"Product Name: {product},quantity: {quantity},Total: {quantity*price},time: {t.ctime()}\"\n",
    "            sale_data[product_entry] = sales_data\n",
    "            bill.append(data)\n",
    "            total += quantity * price\n",
    "            print(data)\n",
    "\n",
    "        if item_id == '1014':\n",
    "            product = products_details['1014'][\"name\"]\n",
    "            price = products_details['1014'][\"price\"]\n",
    "            print(\"\\n\\n\", products_details['1014'][\"name\"])\n",
    "            quantity = int(input(\"Enter the quantity: \"))\n",
    "            print(\"\\nProducts   Quantity    Price\")\n",
    "            products_details['1014'][\"quantity_in_stock\"] -= quantity\n",
    "            data = f\"{product}  -   {quantity}  -   {quantity*price}\"\n",
    "            product_entry = \"\".join(random.choices(string.digits, k=8))\n",
    "            sales_data = f\"Product Name: {product},quantity: {quantity},Total: {quantity*price},time: {t.ctime()}\"\n",
    "            sale_data[product_entry] = sales_data\n",
    "            bill.append(data)\n",
    "            total += quantity * price\n",
    "            print(data)\n",
    "\n",
    "        if item_id == '1015':\n",
    "            product = products_details['1015'][\"name\"]\n",
    "            price = products_details['1015'][\"price\"]\n",
    "            print(\"\\n\\n\", products_details['1015'][\"name\"])\n",
    "            quantity = int(input(\"Enter the quantity: \"))\n",
    "            print(\"\\nProducts   Quantity    Price\")\n",
    "            products_details['1015'][\"quantity_in_stock\"] -= quantity\n",
    "            data = f\"{product}  -   {quantity}  -   {quantity*price}\"\n",
    "            product_entry = \"\".join(random.choices(string.digits, k=8))\n",
    "            sales_data = f\"Product Name: {product},quantity: {quantity},Total: {quantity*price},time: {t.ctime()}\"\n",
    "            sale_data[product_entry] = sales_data\n",
    "            bill.append(data)\n",
    "            total += quantity * price\n",
    "            print(data)\n",
    "            \n",
    "        else:\n",
    "            pass\n",
    "            \n",
    "\n",
    "shopping()\n",
    "\n",
    "sales = json.dumps(sale_data)\n",
    "with open(\"sales.txt\", \"a\") as sale:\n",
    "    sale.write(sales)\n",
    "    \n",
    "sales = json.dumps(sale_data)\n",
    "with open(\"sales.csv\", \"a\") as sale:\n",
    "    sale.write(sales)\n",
    "    \n",
    "sales = json.dumps(sale_data)\n",
    "with open(\"sales.json\", \"a\") as sale:\n",
    "    sale.write(sales)\n",
    "\n",
    "product_remaining = json.dumps(products_details)\n",
    "with open(\"Products.json\", \"w\") as file:\n",
    "    file.write(product_remaining)\n",
    "\n",
    "product_remaining = json.dumps(products_details)\n",
    "with open(\"Products.txt\", \"w\") as file:\n",
    "    file.write(product_remaining)\n",
    "    \n",
    "product_remaining = json.dumps(products_details)\n",
    "with open(\"Products.csv\", \"w\") as file:\n",
    "    file.write(product_remaining)\n",
    "    \n",
    "user = json.dumps(user_data)\n",
    "with open(\"users.json\", 'a') as users:\n",
    "    users.write(user)\n",
    "\n",
    "user = json.dumps(user_data)\n",
    "with open(\"users.txt\", 'a') as users:\n",
    "    users.write(user)\n",
    "\n",
    "    user = json.dumps(user_data)\n",
    "with open(\"users.csv\", 'a') as users:\n",
    "    users.write(user)"
   ]
  },
  {
   "cell_type": "markdown",
   "id": "73b3af72",
   "metadata": {},
   "source": [
    "## Viewing all the contents in products.json after accessing products.json"
   ]
  },
  {
   "cell_type": "code",
   "execution_count": 7,
   "id": "7d316e81",
   "metadata": {},
   "outputs": [
    {
     "name": "stdout",
     "output_type": "stream",
     "text": [
      "('{\"1001\": {\"name\": \"Apple\", \"price\": 120, \"quantity_in_stock\": 49, \"rating\": '\n",
      " '4.3, \"type_of_product\": \"Fruit\"}, \"1002\": {\"name\": \"Orange\", \"price\": 70, '\n",
      " '\"quantity_in_stock\": 60, \"rating\": 4.2, \"type_of_product\": \"Fruit\"}, \"1003\": '\n",
      " '{\"name\": \"Grapes\", \"price\": 35, \"quantity_in_stock\": 70, \"rating\": 3.5, '\n",
      " '\"type_of_product\": \"Fruit\"}, \"1004\": {\"name\": \"Milk\", \"price\": 30, '\n",
      " '\"quantity_in_stock\": 198, \"rating\": 4, \"type_of_product\": \"Diary\"}, \"1005\": '\n",
      " '{\"name\": \"Butter\", \"price\": 100, \"quantity_in_stock\": 79, \"rating\": 4.9, '\n",
      " '\"type_of_product\": \"Diary\"}, \"1006\": {\"name\": \"Ghee\", \"price\": 150, '\n",
      " '\"quantity_in_stock\": 39, \"rating\": 3.9, \"type_of_product\": \"Diary\"}, \"1007\": '\n",
      " '{\"name\": \"sugar\", \"price\": 40, \"quantity_in_stock\": 100, \"rating\": 3.8, '\n",
      " '\"type_of_product\": \"Grocery\"}, \"1008\": {\"name\": \"Salt\", \"price\": 15, '\n",
      " '\"quantity_in_stock\": 100, \"rating\": 5, \"type_of_product\": \"Grocery\"}, '\n",
      " '\"1009\": {\"name\": \"Dhall\", \"price\": 80, \"quantity_in_stock\": 99, \"rating\": 4, '\n",
      " '\"type_of_product\": \"Grocery\"}, \"1010\": {\"name\": \"Rice\", \"price\": 999, '\n",
      " '\"quantity_in_stock\": 19, \"rating\": 4.5, \"type_of_product\": \"Grocery\"}, '\n",
      " '\"1011\": {\"name\": \"Chicken\", \"price\": 150, \"quantity_in_stock\": 57, \"rating\": '\n",
      " '4.3, \"type_of_product\": \"Meat\"}, \"1012\": {\"name\": \"Fish\", \"price\": 200, '\n",
      " '\"quantity_in_stock\": 60, \"rating\": 4.2, \"type_of_product\": \"Meat\"}, \"1013\": '\n",
      " '{\"name\": \"Mutton\", \"price\": 500, \"quantity_in_stock\": 90, \"rating\": 3.7, '\n",
      " '\"type_of_product\": \"Meat\"}, \"1014\": {\"name\": \"Vegetable oil\", \"price\": 150, '\n",
      " '\"quantity_in_stock\": 57, \"rating\": 4, \"type_of_product\": \"Edible_Oil\"}, '\n",
      " '\"1015\": {\"name\": \"Coconut oil\", \"price\": 140, \"quantity_in_stock\": 59, '\n",
      " '\"rating\": 4.8, \"type_of_product\": \"Edible_Oil\"}}')\n"
     ]
    }
   ],
   "source": [
    "from pprint import pprint\n",
    "with open(\"Products.json\",\"r\") as file:\n",
    "    products=file.read()\n",
    "    pprint(products)"
   ]
  },
  {
   "cell_type": "markdown",
   "id": "942c5c38",
   "metadata": {},
   "source": [
    "## Viewing all the contents in products.csv after accessing products.json"
   ]
  },
  {
   "cell_type": "code",
   "execution_count": 8,
   "id": "b16dbf88",
   "metadata": {},
   "outputs": [
    {
     "name": "stdout",
     "output_type": "stream",
     "text": [
      "('{\"1001\": {\"name\": \"Apple\", \"price\": 120, \"quantity_in_stock\": 49, \"rating\": '\n",
      " '4.3, \"type_of_product\": \"Fruit\"}, \"1002\": {\"name\": \"Orange\", \"price\": 70, '\n",
      " '\"quantity_in_stock\": 60, \"rating\": 4.2, \"type_of_product\": \"Fruit\"}, \"1003\": '\n",
      " '{\"name\": \"Grapes\", \"price\": 35, \"quantity_in_stock\": 70, \"rating\": 3.5, '\n",
      " '\"type_of_product\": \"Fruit\"}, \"1004\": {\"name\": \"Milk\", \"price\": 30, '\n",
      " '\"quantity_in_stock\": 198, \"rating\": 4, \"type_of_product\": \"Diary\"}, \"1005\": '\n",
      " '{\"name\": \"Butter\", \"price\": 100, \"quantity_in_stock\": 79, \"rating\": 4.9, '\n",
      " '\"type_of_product\": \"Diary\"}, \"1006\": {\"name\": \"Ghee\", \"price\": 150, '\n",
      " '\"quantity_in_stock\": 39, \"rating\": 3.9, \"type_of_product\": \"Diary\"}, \"1007\": '\n",
      " '{\"name\": \"sugar\", \"price\": 40, \"quantity_in_stock\": 100, \"rating\": 3.8, '\n",
      " '\"type_of_product\": \"Grocery\"}, \"1008\": {\"name\": \"Salt\", \"price\": 15, '\n",
      " '\"quantity_in_stock\": 100, \"rating\": 5, \"type_of_product\": \"Grocery\"}, '\n",
      " '\"1009\": {\"name\": \"Dhall\", \"price\": 80, \"quantity_in_stock\": 99, \"rating\": 4, '\n",
      " '\"type_of_product\": \"Grocery\"}, \"1010\": {\"name\": \"Rice\", \"price\": 999, '\n",
      " '\"quantity_in_stock\": 19, \"rating\": 4.5, \"type_of_product\": \"Grocery\"}, '\n",
      " '\"1011\": {\"name\": \"Chicken\", \"price\": 150, \"quantity_in_stock\": 57, \"rating\": '\n",
      " '4.3, \"type_of_product\": \"Meat\"}, \"1012\": {\"name\": \"Fish\", \"price\": 200, '\n",
      " '\"quantity_in_stock\": 60, \"rating\": 4.2, \"type_of_product\": \"Meat\"}, \"1013\": '\n",
      " '{\"name\": \"Mutton\", \"price\": 500, \"quantity_in_stock\": 90, \"rating\": 3.7, '\n",
      " '\"type_of_product\": \"Meat\"}, \"1014\": {\"name\": \"Vegetable oil\", \"price\": 150, '\n",
      " '\"quantity_in_stock\": 57, \"rating\": 4, \"type_of_product\": \"Edible_Oil\"}, '\n",
      " '\"1015\": {\"name\": \"Coconut oil\", \"price\": 140, \"quantity_in_stock\": 59, '\n",
      " '\"rating\": 4.8, \"type_of_product\": \"Edible_Oil\"}}')\n"
     ]
    }
   ],
   "source": [
    "from pprint import pprint\n",
    "with open(\"Products.csv\",\"r\") as file:\n",
    "    products=file.read()\n",
    "    pprint(products)"
   ]
  },
  {
   "cell_type": "markdown",
   "id": "5e64fc9f",
   "metadata": {},
   "source": [
    "## Viewing all the contents in products.txt after accessing products.json"
   ]
  },
  {
   "cell_type": "code",
   "execution_count": 9,
   "id": "5b4e0882",
   "metadata": {},
   "outputs": [
    {
     "name": "stdout",
     "output_type": "stream",
     "text": [
      "('{\"1001\": {\"name\": \"Apple\", \"price\": 120, \"quantity_in_stock\": 49, \"rating\": '\n",
      " '4.3, \"type_of_product\": \"Fruit\"}, \"1002\": {\"name\": \"Orange\", \"price\": 70, '\n",
      " '\"quantity_in_stock\": 60, \"rating\": 4.2, \"type_of_product\": \"Fruit\"}, \"1003\": '\n",
      " '{\"name\": \"Grapes\", \"price\": 35, \"quantity_in_stock\": 70, \"rating\": 3.5, '\n",
      " '\"type_of_product\": \"Fruit\"}, \"1004\": {\"name\": \"Milk\", \"price\": 30, '\n",
      " '\"quantity_in_stock\": 198, \"rating\": 4, \"type_of_product\": \"Diary\"}, \"1005\": '\n",
      " '{\"name\": \"Butter\", \"price\": 100, \"quantity_in_stock\": 79, \"rating\": 4.9, '\n",
      " '\"type_of_product\": \"Diary\"}, \"1006\": {\"name\": \"Ghee\", \"price\": 150, '\n",
      " '\"quantity_in_stock\": 39, \"rating\": 3.9, \"type_of_product\": \"Diary\"}, \"1007\": '\n",
      " '{\"name\": \"sugar\", \"price\": 40, \"quantity_in_stock\": 100, \"rating\": 3.8, '\n",
      " '\"type_of_product\": \"Grocery\"}, \"1008\": {\"name\": \"Salt\", \"price\": 15, '\n",
      " '\"quantity_in_stock\": 100, \"rating\": 5, \"type_of_product\": \"Grocery\"}, '\n",
      " '\"1009\": {\"name\": \"Dhall\", \"price\": 80, \"quantity_in_stock\": 99, \"rating\": 4, '\n",
      " '\"type_of_product\": \"Grocery\"}, \"1010\": {\"name\": \"Rice\", \"price\": 999, '\n",
      " '\"quantity_in_stock\": 19, \"rating\": 4.5, \"type_of_product\": \"Grocery\"}, '\n",
      " '\"1011\": {\"name\": \"Chicken\", \"price\": 150, \"quantity_in_stock\": 57, \"rating\": '\n",
      " '4.3, \"type_of_product\": \"Meat\"}, \"1012\": {\"name\": \"Fish\", \"price\": 200, '\n",
      " '\"quantity_in_stock\": 60, \"rating\": 4.2, \"type_of_product\": \"Meat\"}, \"1013\": '\n",
      " '{\"name\": \"Mutton\", \"price\": 500, \"quantity_in_stock\": 90, \"rating\": 3.7, '\n",
      " '\"type_of_product\": \"Meat\"}, \"1014\": {\"name\": \"Vegetable oil\", \"price\": 150, '\n",
      " '\"quantity_in_stock\": 57, \"rating\": 4, \"type_of_product\": \"Edible_Oil\"}, '\n",
      " '\"1015\": {\"name\": \"Coconut oil\", \"price\": 140, \"quantity_in_stock\": 59, '\n",
      " '\"rating\": 4.8, \"type_of_product\": \"Edible_Oil\"}}')\n"
     ]
    }
   ],
   "source": [
    "from pprint import pprint\n",
    "with open(\"Products.txt\",\"r\") as file:\n",
    "    products=file.read()\n",
    "    pprint(products)"
   ]
  },
  {
   "cell_type": "markdown",
   "id": "a0852e0f",
   "metadata": {},
   "source": [
    "## Viewing all the contents in sales.txt after accessing products.json"
   ]
  },
  {
   "cell_type": "code",
   "execution_count": 10,
   "id": "a5eef4f5",
   "metadata": {},
   "outputs": [
    {
     "name": "stdout",
     "output_type": "stream",
     "text": [
      "('{\"03717149\": \"Name: Apple,quantity: 1,Total: 120,time: Sat Sep  4 07:21:10 '\n",
      " '2021\", \"64525495\": \"Name: Butter,quantity: 1,Total: 100,time: Sat Sep  4 '\n",
      " '07:21:14 2021\", \"23100107\": \"Name: Dhall,quantity: 1,Total: 80,time: Sat '\n",
      " 'Sep  4 07:21:18 2021\"}{\"17087939\": \"Name: Milk,quantity: 1,Total: 30,time: '\n",
      " 'Sat Sep  4 07:24:06 2021\", \"37175217\": \"Name: Rice,quantity: 1,Total: '\n",
      " '999,time: Sat Sep  4 07:24:11 2021\", \"74969672\": \"Name: Coconut '\n",
      " 'oil,quantity: 1,Total: 140,time: Sat Sep  4 07:24:15 2021\"}{\"10302074\": '\n",
      " '\"Product Name: Apple,quantity: 1,Total: 120,time: Sun Sep  5 15:43:12 2021\", '\n",
      " '\"94433414\": \"Product Name: Milk,quantity: 1,Total: 30,time: Sun Sep  5 '\n",
      " '15:43:17 2021\", \"01738670\": \"Product Name: Ghee,quantity: 1,Total: 150,time: '\n",
      " 'Sun Sep  5 15:43:19 2021\"}')\n"
     ]
    }
   ],
   "source": [
    "from pprint import pprint\n",
    "with open(\"sales.txt\",\"r\") as file:\n",
    "    products=file.read()\n",
    "    pprint(products)"
   ]
  },
  {
   "cell_type": "markdown",
   "id": "ac4dbf55",
   "metadata": {},
   "source": [
    "## Viewing all the contents in sales.json after accessing products.json"
   ]
  },
  {
   "cell_type": "code",
   "execution_count": 11,
   "id": "33910325",
   "metadata": {},
   "outputs": [
    {
     "name": "stdout",
     "output_type": "stream",
     "text": [
      "('{\"03717149\": \"Name: Apple,quantity: 1,Total: 120,time: Sat Sep  4 07:21:10 '\n",
      " '2021\", \"64525495\": \"Name: Butter,quantity: 1,Total: 100,time: Sat Sep  4 '\n",
      " '07:21:14 2021\", \"23100107\": \"Name: Dhall,quantity: 1,Total: 80,time: Sat '\n",
      " 'Sep  4 07:21:18 2021\"}{\"17087939\": \"Name: Milk,quantity: 1,Total: 30,time: '\n",
      " 'Sat Sep  4 07:24:06 2021\", \"37175217\": \"Name: Rice,quantity: 1,Total: '\n",
      " '999,time: Sat Sep  4 07:24:11 2021\", \"74969672\": \"Name: Coconut '\n",
      " 'oil,quantity: 1,Total: 140,time: Sat Sep  4 07:24:15 2021\"}{\"10302074\": '\n",
      " '\"Product Name: Apple,quantity: 1,Total: 120,time: Sun Sep  5 15:43:12 2021\", '\n",
      " '\"94433414\": \"Product Name: Milk,quantity: 1,Total: 30,time: Sun Sep  5 '\n",
      " '15:43:17 2021\", \"01738670\": \"Product Name: Ghee,quantity: 1,Total: 150,time: '\n",
      " 'Sun Sep  5 15:43:19 2021\"}')\n"
     ]
    }
   ],
   "source": [
    "from pprint import pprint\n",
    "with open(\"sales.json\",\"r\") as file:\n",
    "    products=file.read()\n",
    "    pprint(products)"
   ]
  },
  {
   "cell_type": "markdown",
   "id": "ee08446c",
   "metadata": {},
   "source": [
    "## Viewing all the contents in sales.csv after accessing products.json"
   ]
  },
  {
   "cell_type": "code",
   "execution_count": 12,
   "id": "88271e7a",
   "metadata": {},
   "outputs": [
    {
     "name": "stdout",
     "output_type": "stream",
     "text": [
      "('{\"03717149\": \"Name: Apple,quantity: 1,Total: 120,time: Sat Sep  4 07:21:10 '\n",
      " '2021\", \"64525495\": \"Name: Butter,quantity: 1,Total: 100,time: Sat Sep  4 '\n",
      " '07:21:14 2021\", \"23100107\": \"Name: Dhall,quantity: 1,Total: 80,time: Sat '\n",
      " 'Sep  4 07:21:18 2021\"}{\"17087939\": \"Name: Milk,quantity: 1,Total: 30,time: '\n",
      " 'Sat Sep  4 07:24:06 2021\", \"37175217\": \"Name: Rice,quantity: 1,Total: '\n",
      " '999,time: Sat Sep  4 07:24:11 2021\", \"74969672\": \"Name: Coconut '\n",
      " 'oil,quantity: 1,Total: 140,time: Sat Sep  4 07:24:15 2021\"}{\"10302074\": '\n",
      " '\"Product Name: Apple,quantity: 1,Total: 120,time: Sun Sep  5 15:43:12 2021\", '\n",
      " '\"94433414\": \"Product Name: Milk,quantity: 1,Total: 30,time: Sun Sep  5 '\n",
      " '15:43:17 2021\", \"01738670\": \"Product Name: Ghee,quantity: 1,Total: 150,time: '\n",
      " 'Sun Sep  5 15:43:19 2021\"}')\n"
     ]
    }
   ],
   "source": [
    "from pprint import pprint\n",
    "with open(\"sales.csv\",\"r\") as file:\n",
    "    products=file.read()\n",
    "    pprint(products)"
   ]
  },
  {
   "cell_type": "markdown",
   "id": "bec2c3e1",
   "metadata": {},
   "source": [
    "## Viewing all the contents in user.txt after accessing products.json"
   ]
  },
  {
   "cell_type": "code",
   "execution_count": 13,
   "id": "5b59129d",
   "metadata": {},
   "outputs": [
    {
     "name": "stdout",
     "output_type": "stream",
     "text": [
      "'{\"MANOJ\": \"7904305643\"}{\"CHARAN\": \"854632187\"}{\"ARAVIND\": \"8462315970\"}'\n"
     ]
    }
   ],
   "source": [
    "from pprint import pprint\n",
    "with open(\"users.txt\",\"r\") as file:\n",
    "    products=file.read()\n",
    "    pprint(products)"
   ]
  },
  {
   "cell_type": "markdown",
   "id": "f6005980",
   "metadata": {},
   "source": [
    "## Viewing all the contents in users.json after accessing products.json"
   ]
  },
  {
   "cell_type": "code",
   "execution_count": 14,
   "id": "f21d5030",
   "metadata": {},
   "outputs": [
    {
     "name": "stdout",
     "output_type": "stream",
     "text": [
      "'{\"MANOJ\": \"7904305643\"}{\"CHARAN\": \"854632187\"}{\"ARAVIND\": \"8462315970\"}'\n"
     ]
    }
   ],
   "source": [
    "from pprint import pprint\n",
    "with open(\"users.json\",\"r\") as file:\n",
    "    products=file.read()\n",
    "    pprint(products)"
   ]
  },
  {
   "cell_type": "markdown",
   "id": "55c18d57",
   "metadata": {},
   "source": [
    "## Viewing all the contents in users.csv after accessing products.json"
   ]
  },
  {
   "cell_type": "code",
   "execution_count": 15,
   "id": "5467d42c",
   "metadata": {},
   "outputs": [
    {
     "name": "stdout",
     "output_type": "stream",
     "text": [
      "'{\"MANOJ\": \"7904305643\"}{\"CHARAN\": \"854632187\"}{\"ARAVIND\": \"8462315970\"}'\n"
     ]
    }
   ],
   "source": [
    "from pprint import pprint\n",
    "with open(\"users.csv\",\"r\") as file:\n",
    "    products=file.read()\n",
    "    pprint(products)"
   ]
  }
 ],
 "metadata": {
  "kernelspec": {
   "display_name": "Python 3",
   "language": "python",
   "name": "python3"
  },
  "language_info": {
   "codemirror_mode": {
    "name": "ipython",
    "version": 3
   },
   "file_extension": ".py",
   "mimetype": "text/x-python",
   "name": "python",
   "nbconvert_exporter": "python",
   "pygments_lexer": "ipython3",
   "version": "3.8.8"
  }
 },
 "nbformat": 4,
 "nbformat_minor": 5
}
